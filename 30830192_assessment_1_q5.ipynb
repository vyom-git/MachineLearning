{
 "cells": [
  {
   "cell_type": "markdown",
   "metadata": {},
   "source": [
    "### Name - Vyom Chauhan\n",
    "### Student ID - 30830192\n",
    "### Question 5"
   ]
  },
  {
   "cell_type": "code",
   "execution_count": 1,
   "metadata": {},
   "outputs": [
    {
     "name": "stderr",
     "output_type": "stream",
     "text": [
      "Warning message:\n",
      "\"package 'reshape2' was built under R version 3.6.3\"Warning message:\n",
      "\"package 'ggplot2' was built under R version 3.6.3\"\n",
      "Attaching package: 'dplyr'\n",
      "\n",
      "The following objects are masked from 'package:stats':\n",
      "\n",
      "    filter, lag\n",
      "\n",
      "The following objects are masked from 'package:base':\n",
      "\n",
      "    intersect, setdiff, setequal, union\n",
      "\n"
     ]
    }
   ],
   "source": [
    "# load libraries:\n",
    "library(reshape2)\n",
    "library(ggplot2)\n",
    "library(dplyr)"
   ]
  },
  {
   "cell_type": "markdown",
   "metadata": {},
   "source": [
    "### Question 5.1\n",
    "Error function for regression:<br/>\n",
    "$ E_{reg} = \\sum_{i = 1}^{N} (t_{i} - \\pmb{w}.\\phi(x_{i}))^2 $<br/>\n",
    "For $L_{2}$ regularization, penalty term:<br/>\n",
    "$ \\lambda \\sum_{m = 0}^{M-1} \\pmb{w}_{m}^2 $, where $\\lambda$ is the regularization parameter and M is the complexity of the linear model.<br/>\n",
    "So now, the error function with $L_{2}$ regularization is:<br/>\n",
    "$ Error = \\sum_{i = 1}^{N} (t_{n} - \\pmb{w}.\\phi(x_{i}))^2 + \\lambda \\sum_{m = 0}^{M-1} \\pmb{w}_{m}^2 $<br/>\n",
    "Differentiating $Error$ w.r.t. $\\pmb{w}$:<br/><br/>\n",
    "$\\frac{\\partial Error}{\\partial \\pmb{w}} = - \\sum_{i = 1}^{N} \\phi(x_{i})(t_{i} - \\pmb{w}.\\phi(x_{i})) + 2\\lambda \\sum_{m = 0}^{M-1} \\pmb{w}_{m}$<br/>\n",
    "For each step we subtract the partially differentiated error with the slope value of last step. The current step is considered the solution if the step size is smaller than the threshold value. Updating weights:<br/>\n",
    "$\\pmb{w}^{(\\tau+1)} := \\pmb{w}^{(\\tau)} - \\eta \\frac{\\partial E(\\pmb{w}^{(\\tau)})}{\\partial \\pmb{w}^{(\\tau)}}$<br/>\n",
    "$\\pmb{w}^{(\\tau+1)} := \\pmb{w}^{(\\tau)} + \\eta \\sum_{i = 1}^{N} (t_{i} - \\pmb{w}^{(\\tau)}.\\phi(x_{i}))\\phi(x_{i}) - 2\\eta \\lambda \\sum_{m = 0}^{M-1} \\pmb{w}_{m}^{(\\tau)}$"
   ]
  },
  {
   "cell_type": "code",
   "execution_count": 2,
   "metadata": {},
   "outputs": [],
   "source": [
    "# reading the data\n",
    "read_data <- function(fname, sc) {\n",
    "   data <- read.csv(file=fname, head=TRUE, sep=\",\")\n",
    "   nr = dim(data)[1]\n",
    "   nc = dim(data)[2]\n",
    "   x = data[1:nr,1:(nc-1)]\n",
    "   y = data[1:nr,nc]\n",
    "   if (isTRUE(sc)) {\n",
    "      x = scale(x)\n",
    "      y = scale(y)\n",
    "   }\n",
    "   return (list(\"x\" = x, \"y\" = y))\n",
    "}"
   ]
  },
  {
   "cell_type": "code",
   "execution_count": 3,
   "metadata": {},
   "outputs": [],
   "source": [
    "# auxiliary function to calculate labels based on the estimated coefficients\n",
    "predict_func <- function(Phi, w){\n",
    "    return(Phi%*%w)\n",
    "} "
   ]
  },
  {
   "cell_type": "code",
   "execution_count": 4,
   "metadata": {},
   "outputs": [],
   "source": [
    "# auxiliary function to calculate the objective function for the training\n",
    "train_obj_func <- function (Phi, w, label, lambda){\n",
    "    # the L2 regulariser is already included in the objective function for training \n",
    "    return(.5 * (mean((predict_func(Phi, w) - label)^2)) + .5 * lambda * w %*% w)\n",
    "}"
   ]
  },
  {
   "cell_type": "code",
   "execution_count": 5,
   "metadata": {},
   "outputs": [],
   "source": [
    "# auxiliary function to compute the error of the model\n",
    "get_errors <- function(train_data, test_data, W, lambda) {\n",
    "  n_weights = dim(W)[1]\n",
    "  errors = matrix(,nrow=n_weights, ncol=2)\n",
    "  colnames(errors) <- c('train', 'test')\n",
    "  for (tau in 1:n_weights) {\n",
    "    errors[tau,1] = train_obj_func(train_data$x, W[tau,],train_data$y, lambda)\n",
    "    errors[tau,2] = train_obj_func(test_data$x, W[tau,],test_data$y, lambda)\n",
    "  }\n",
    "  return(errors)\n",
    "}"
   ]
  },
  {
   "cell_type": "code",
   "execution_count": 6,
   "metadata": {},
   "outputs": [],
   "source": [
    "# Question 5.2\n",
    "# Stochastic Gradient Descent\n",
    "sgd_train <- function(train_x, train_y, lambda, eta, epsilon, max_epoch) {\n",
    "\n",
    "   train_len = dim(train_x)[1]\n",
    "   tau_max = max_epoch * train_len\n",
    "\n",
    "   W <- matrix(,nrow=tau_max, ncol=ncol(train_x)) \n",
    "   W[1,] <- runif(ncol(train_x))\n",
    "  \n",
    "   tau = 1 # counter \n",
    "   obj_func_val <-matrix(,nrow=tau_max, ncol=1) \n",
    "   obj_func_val[tau,1] = train_obj_func(train_x, W[tau,],train_y, lambda)\n",
    "\n",
    "   while (tau <= tau_max){\n",
    "\n",
    "       # check termination criteria\n",
    "       if (obj_func_val[tau,1] <= epsilon) {break}\n",
    " \n",
    "       # shuffle data:\n",
    "       train_index <- sample(1:train_len, train_len, replace = FALSE)\n",
    "    \n",
    "       # loop over each datapoint\n",
    "       for (i in train_index) {\n",
    "           # increment the counter\n",
    "           tau <- tau + 1\n",
    "           if (tau > tau_max) {break}\n",
    "\n",
    "           # make the weight update\n",
    "           y_pred <- predict_func(train_x[i,], W[tau-1,])\n",
    "           W[tau,] <- sgd_update_weight(W[tau-1,], train_x[i,], train_y[i], y_pred, lambda, eta)\n",
    "\n",
    "           # keep track of the objective funtion\n",
    "           obj_func_val[tau,1] = train_obj_func(train_x, W[tau,],train_y, lambda)\n",
    "       }\n",
    "   }\n",
    "   # resulting values for the training objective function as well as the weights\n",
    "   return(list('vals'=obj_func_val, 'W'=W))\n",
    "}"
   ]
  },
  {
   "cell_type": "code",
   "execution_count": 7,
   "metadata": {},
   "outputs": [],
   "source": [
    "# updating the weight vector\n",
    "sgd_update_weight <- function(W_prev, x, y_true, y_pred, lambda, eta) {\n",
    "   # adding the regularization term\n",
    "   grad = c(-(y_true-y_pred)) * x + 2 * lambda * W_prev\n",
    "   return (W_prev - eta * grad)\n",
    "}"
   ]
  },
  {
   "cell_type": "code",
   "execution_count": 21,
   "metadata": {},
   "outputs": [],
   "source": [
    "play_with_sgd <- function() {\n",
    "   # reading the data\n",
    "   dtrain = read_data(\"Task1C_train.csv\", TRUE)\n",
    "   dtest = read_data(\"Task1C_test.csv\", TRUE)\n",
    "\n",
    "   # SGD Trainng\n",
    "   max_epoch = 20\n",
    "   epsilon = .001\n",
    "   eta = .01\n",
    "   lambda = 0\n",
    "   for (lambda in seq(0, 10, 0.4)){\n",
    "\n",
    "       train_res = sgd_train(dtrain$x, dtrain$y, lambda, eta, epsilon, max_epoch)\n",
    "       if (lambda == 0){\n",
    "           errors = data.frame(abs(get_errors(dtrain, dtest, train_res$W, lambda)))\n",
    "           errors['lambda'] <- lambda\n",
    "       }\n",
    "       else{\n",
    "           a = data.frame(abs(get_errors(dtrain, dtest, train_res$W, lambda)))\n",
    "           a['lambda'] <- lambda\n",
    "           errors = rbind(errors, a)\n",
    "       }\n",
    "    }\n",
    "    # reshape for visualization\n",
    "    error_melt <- melt(errors, id='lambda')\n",
    "    names(error_melt) <- c('Lambda', 'Type', 'Error')\n",
    "    # grouping by Lambda and Type of Error and aggregating by mean\n",
    "    error_plot <- error_melt %>%\n",
    "    group_by(Lambda, Type) %>%\n",
    "    summarise(avg_error = mean(Error)) %>%\n",
    "    ggplot(aes(x = log(Lambda), y = avg_error, color = factor(Type))) + \n",
    "    geom_line() + \n",
    "    ggtitle('Avg. Absolute Error vs. Log Lambda')\n",
    "    print(error_plot)\n",
    "}"
   ]
  },
  {
   "cell_type": "code",
   "execution_count": 22,
   "metadata": {},
   "outputs": [
    {
     "data": {
      "image/png": "[encoded data removed]",
      "text/plain": [
       "plot without title"
      ]
     },
     "metadata": {},
     "output_type": "display_data"
    }
   ],
   "source": [
    "play_with_sgd()"
   ]
  },
  {
   "cell_type": "markdown",
   "metadata": {},
   "source": [
    "### Question 5.3\n",
    "#### We can see that the average test error first decreases and then gradually increases as we increase the value of lambda. While the average train error goes on increasing as we increase the value of lambda. We can say that the optimum value of lambda is 1.6 since it gives the lowest possible test error.\n",
    "#### As we increase lambda we put a heavy penalty on the error function and minimize the weights assigned to the features and thereby, oversimplify the model which leads to model underfitting. While when lambda is low, we decrease the penalty which leads to heavy weights assigned to the features thereby making the model too complex i.e. overfitting. "
   ]
  }
 ],
 "metadata": {
  "kernelspec": {
   "display_name": "R",
   "language": "R",
   "name": "ir"
  },
  "language_info": {
   "codemirror_mode": "r",
   "file_extension": ".r",
   "mimetype": "text/x-r-source",
   "name": "R",
   "pygments_lexer": "r",
   "version": "3.6.1"
  }
 },
 "nbformat": 4,
 "nbformat_minor": 4
}
