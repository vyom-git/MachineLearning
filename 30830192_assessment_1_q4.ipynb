{
 "cells": [
  {
   "cell_type": "markdown",
   "metadata": {},
   "source": [
    "### Name - Vyom Chauhan\n",
    "### Student ID- 30830192\n",
    "### Question 4"
   ]
  },
  {
   "cell_type": "markdown",
   "metadata": {},
   "source": [
    "Suppose we have one red,\n",
    "one blue, and one yellow box. In the red box we have 3 apples and 5 oranges, in\n",
    "the blue box we have 4 apples and 4 orange, and in the yellow box we have 1\n",
    "apples and 1 orange. Now suppose we randomly selected one of the boxes and\n",
    "picked a fruit. If the picked fruit is an apple, what is the probability that it was\n",
    "picked from the yellow box?\n",
    "Note that the chances of picking the red, blue, and yellow boxes are 50%, 30%, and\n",
    "20% respectively and the selection chance for any of the pieces from a box is equal\n",
    "for all the pieces in that box. Please show your work in your PDF report."
   ]
  },
  {
   "cell_type": "markdown",
   "metadata": {},
   "source": [
    "$ P(Red-box) = 0.5 $\n",
    "\n",
    "$ P(Blue-box) = 0.3 $\n",
    "\n",
    "$ P(Yellow-box) = 0.2 $\n",
    "\n",
    "$ P(Apple|Red-box) = 3/8 $\n",
    "\n",
    "$ P(Apple|Blue-box) = 4/8 $\n",
    "\n",
    "$ P(Apple|Yellow-box) = 1/2 $\n",
    "\n",
    "$ P(Yellow-box|Apple) = \\frac{P(Apple|Yellow-box)P(Yellow-box)}{P(Apple)} $\n",
    "\n",
    "$ P(Yellow-box|Apple) = \\frac{P(Apple|Yellow-box)P(Yellow-box)}{P(Apple|Yellow-box)P(Yellow-box)+P(Apple|Blue-box)P(Blue-box)+P(Apple|Red-box)P(Red-box)} $\n",
    "\n",
    "$ P(Yellow-box|Apple) = \\frac{0.5\\times0.2}{0.5\\times0.2+0.375\\times0.5+0.5\\times0.3} $\n",
    "\n",
    "$ P(Yellow-box|Apple) = \\frac{8}{35} $ \n",
    "\n",
    "$ P(Yellow-box|Apple) = 0.2285 $"
   ]
  }
 ],
 "metadata": {
  "kernelspec": {
   "display_name": "R",
   "language": "R",
   "name": "ir"
  },
  "language_info": {
   "codemirror_mode": "r",
   "file_extension": ".r",
   "mimetype": "text/x-r-source",
   "name": "R",
   "pygments_lexer": "r",
   "version": "3.6.1"
  }
 },
 "nbformat": 4,
 "nbformat_minor": 4
}
