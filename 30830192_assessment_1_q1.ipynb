{
 "cells": [
  {
   "cell_type": "markdown",
   "metadata": {},
   "source": [
    "### Name - Vyom Chauhan\n",
    "### Student ID - 30830192\n",
    "### Question 1"
   ]
  },
  {
   "cell_type": "code",
   "execution_count": 1,
   "metadata": {},
   "outputs": [
    {
     "name": "stderr",
     "output_type": "stream",
     "text": [
      "Warning message:\n",
      "\"package 'reshape2' was built under R version 3.6.3\"Warning message:\n",
      "\"package 'ggplot2' was built under R version 3.6.3\""
     ]
    }
   ],
   "source": [
    "# importing required libraries\n",
    "library(reshape2)\n",
    "library(ggplot2)"
   ]
  },
  {
   "cell_type": "code",
   "execution_count": 2,
   "metadata": {},
   "outputs": [],
   "source": [
    "# reading test and train data\n",
    "test_df <- read.csv('Task1A_test.csv')\n",
    "train_df <- read.csv('Task1A_train.csv')"
   ]
  },
  {
   "cell_type": "code",
   "execution_count": 3,
   "metadata": {
    "scrolled": false
   },
   "outputs": [],
   "source": [
    "# splitting df into test and train-data and lables \n",
    "train.data <- train_df[1]\n",
    "train.label <- train_df[2]\n",
    "test.data <- test_df[1]\n",
    "test.label <- test_df[2]"
   ]
  },
  {
   "cell_type": "code",
   "execution_count": 4,
   "metadata": {},
   "outputs": [],
   "source": [
    "# Question 1.1\n",
    "# defining knn regressor function \n",
    "knn <- function(train.data, train.label, test.data, K=4){\n",
    "    # straight line distance\n",
    "    distance = 'euclidean'\n",
    "    # number of samples in train and test data\n",
    "    train.len <- nrow(train.data)\n",
    "    test.len <- nrow(test.data)\n",
    "    # distance between data points in test and train samples\n",
    "    dist <- as.matrix(dist(rbind(test.data, train.data), method= distance))[1:test.len, (test.len+1):(test.len+train.len)]\n",
    "    # for each test sample\n",
    "    for (i in 1:test.len){\n",
    "        # find its k nearrest neighbours from training sample\n",
    "        nn <- as.data.frame(sort(dist[i,], index.return = TRUE))[1:K,2]\n",
    "        # calculate predicted label based mean of the nearest k train lables\n",
    "        test.label[i, 1] = mean(train.label[nn,])\n",
    "    }\n",
    "    # returning class labels as output\n",
    "    return (test.label)\n",
    "}"
   ]
  },
  {
   "cell_type": "code",
   "execution_count": 5,
   "metadata": {},
   "outputs": [
    {
     "data": {
      "text/html": [
       "<table>\n",
       "<thead><tr><th scope=col>y</th></tr></thead>\n",
       "<tbody>\n",
       "\t<tr><td> 0.7725</td></tr>\n",
       "\t<tr><td> 0.7725</td></tr>\n",
       "\t<tr><td> 0.7750</td></tr>\n",
       "\t<tr><td> 0.7925</td></tr>\n",
       "\t<tr><td> 0.8475</td></tr>\n",
       "\t<tr><td> 0.8675</td></tr>\n",
       "\t<tr><td> 0.9175</td></tr>\n",
       "\t<tr><td> 0.9975</td></tr>\n",
       "\t<tr><td> 1.0800</td></tr>\n",
       "\t<tr><td> 1.1925</td></tr>\n",
       "\t<tr><td> 1.2775</td></tr>\n",
       "\t<tr><td> 1.4325</td></tr>\n",
       "\t<tr><td> 1.5250</td></tr>\n",
       "\t<tr><td> 1.6200</td></tr>\n",
       "\t<tr><td> 1.6875</td></tr>\n",
       "\t<tr><td> 1.8075</td></tr>\n",
       "\t<tr><td> 1.9650</td></tr>\n",
       "\t<tr><td> 2.1825</td></tr>\n",
       "\t<tr><td> 2.4975</td></tr>\n",
       "\t<tr><td> 2.8350</td></tr>\n",
       "\t<tr><td> 3.1950</td></tr>\n",
       "\t<tr><td> 3.6000</td></tr>\n",
       "\t<tr><td> 4.1175</td></tr>\n",
       "\t<tr><td> 4.4550</td></tr>\n",
       "\t<tr><td> 4.9500</td></tr>\n",
       "\t<tr><td> 5.5125</td></tr>\n",
       "\t<tr><td> 5.8050</td></tr>\n",
       "\t<tr><td> 6.2775</td></tr>\n",
       "\t<tr><td> 6.6150</td></tr>\n",
       "\t<tr><td> 6.9300</td></tr>\n",
       "\t<tr><td> 7.3575</td></tr>\n",
       "\t<tr><td> 7.6950</td></tr>\n",
       "\t<tr><td> 8.3475</td></tr>\n",
       "\t<tr><td> 8.7750</td></tr>\n",
       "\t<tr><td> 9.8100</td></tr>\n",
       "\t<tr><td>10.7775</td></tr>\n",
       "\t<tr><td>11.9025</td></tr>\n",
       "\t<tr><td>13.2300</td></tr>\n",
       "\t<tr><td>14.3100</td></tr>\n",
       "\t<tr><td>15.2775</td></tr>\n",
       "\t<tr><td>15.2775</td></tr>\n",
       "\t<tr><td>15.2775</td></tr>\n",
       "</tbody>\n",
       "</table>\n"
      ],
      "text/latex": [
       "\\begin{tabular}{r|l}\n",
       " y\\\\\n",
       "\\hline\n",
       "\t  0.7725\\\\\n",
       "\t  0.7725\\\\\n",
       "\t  0.7750\\\\\n",
       "\t  0.7925\\\\\n",
       "\t  0.8475\\\\\n",
       "\t  0.8675\\\\\n",
       "\t  0.9175\\\\\n",
       "\t  0.9975\\\\\n",
       "\t  1.0800\\\\\n",
       "\t  1.1925\\\\\n",
       "\t  1.2775\\\\\n",
       "\t  1.4325\\\\\n",
       "\t  1.5250\\\\\n",
       "\t  1.6200\\\\\n",
       "\t  1.6875\\\\\n",
       "\t  1.8075\\\\\n",
       "\t  1.9650\\\\\n",
       "\t  2.1825\\\\\n",
       "\t  2.4975\\\\\n",
       "\t  2.8350\\\\\n",
       "\t  3.1950\\\\\n",
       "\t  3.6000\\\\\n",
       "\t  4.1175\\\\\n",
       "\t  4.4550\\\\\n",
       "\t  4.9500\\\\\n",
       "\t  5.5125\\\\\n",
       "\t  5.8050\\\\\n",
       "\t  6.2775\\\\\n",
       "\t  6.6150\\\\\n",
       "\t  6.9300\\\\\n",
       "\t  7.3575\\\\\n",
       "\t  7.6950\\\\\n",
       "\t  8.3475\\\\\n",
       "\t  8.7750\\\\\n",
       "\t  9.8100\\\\\n",
       "\t 10.7775\\\\\n",
       "\t 11.9025\\\\\n",
       "\t 13.2300\\\\\n",
       "\t 14.3100\\\\\n",
       "\t 15.2775\\\\\n",
       "\t 15.2775\\\\\n",
       "\t 15.2775\\\\\n",
       "\\end{tabular}\n"
      ],
      "text/markdown": [
       "\n",
       "| y |\n",
       "|---|\n",
       "|  0.7725 |\n",
       "|  0.7725 |\n",
       "|  0.7750 |\n",
       "|  0.7925 |\n",
       "|  0.8475 |\n",
       "|  0.8675 |\n",
       "|  0.9175 |\n",
       "|  0.9975 |\n",
       "|  1.0800 |\n",
       "|  1.1925 |\n",
       "|  1.2775 |\n",
       "|  1.4325 |\n",
       "|  1.5250 |\n",
       "|  1.6200 |\n",
       "|  1.6875 |\n",
       "|  1.8075 |\n",
       "|  1.9650 |\n",
       "|  2.1825 |\n",
       "|  2.4975 |\n",
       "|  2.8350 |\n",
       "|  3.1950 |\n",
       "|  3.6000 |\n",
       "|  4.1175 |\n",
       "|  4.4550 |\n",
       "|  4.9500 |\n",
       "|  5.5125 |\n",
       "|  5.8050 |\n",
       "|  6.2775 |\n",
       "|  6.6150 |\n",
       "|  6.9300 |\n",
       "|  7.3575 |\n",
       "|  7.6950 |\n",
       "|  8.3475 |\n",
       "|  8.7750 |\n",
       "|  9.8100 |\n",
       "| 10.7775 |\n",
       "| 11.9025 |\n",
       "| 13.2300 |\n",
       "| 14.3100 |\n",
       "| 15.2775 |\n",
       "| 15.2775 |\n",
       "| 15.2775 |\n",
       "\n"
      ],
      "text/plain": [
       "   y      \n",
       "1   0.7725\n",
       "2   0.7725\n",
       "3   0.7750\n",
       "4   0.7925\n",
       "5   0.8475\n",
       "6   0.8675\n",
       "7   0.9175\n",
       "8   0.9975\n",
       "9   1.0800\n",
       "10  1.1925\n",
       "11  1.2775\n",
       "12  1.4325\n",
       "13  1.5250\n",
       "14  1.6200\n",
       "15  1.6875\n",
       "16  1.8075\n",
       "17  1.9650\n",
       "18  2.1825\n",
       "19  2.4975\n",
       "20  2.8350\n",
       "21  3.1950\n",
       "22  3.6000\n",
       "23  4.1175\n",
       "24  4.4550\n",
       "25  4.9500\n",
       "26  5.5125\n",
       "27  5.8050\n",
       "28  6.2775\n",
       "29  6.6150\n",
       "30  6.9300\n",
       "31  7.3575\n",
       "32  7.6950\n",
       "33  8.3475\n",
       "34  8.7750\n",
       "35  9.8100\n",
       "36 10.7775\n",
       "37 11.9025\n",
       "38 13.2300\n",
       "39 14.3100\n",
       "40 15.2775\n",
       "41 15.2775\n",
       "42 15.2775"
      ]
     },
     "metadata": {},
     "output_type": "display_data"
    }
   ],
   "source": [
    "# Question 1.1\n",
    "knn(train.data, train.label, test.data, K=4)"
   ]
  },
  {
   "cell_type": "code",
   "execution_count": 6,
   "metadata": {},
   "outputs": [],
   "source": [
    "# Question 1.2\n",
    "# initializing the missclassification df\n",
    "miss <- data.frame('K'=1:25, 'train'=rep(0,25), 'test'=rep(0,25))\n",
    "# calculate the train and test missclassification rates for K in 1:25\n",
    "for (k in 1:25){\n",
    "    # mean absolute training error\n",
    "    miss[k,'train'] <- sum(abs(knn(train.data, train.label, train.data, K=k) - train.label))/nrow(train.data)\n",
    "    # mean absolute test error\n",
    "    miss[k,'test'] <-  sum(abs(knn(train.data, train.label, test.data, K=k) - test.label))/nrow(test.data)\n",
    "}"
   ]
  },
  {
   "cell_type": "code",
   "execution_count": 10,
   "metadata": {},
   "outputs": [
    {
     "data": {
      "image/png": "[encoded data removed]",
      "text/plain": [
       "plot without title"
      ]
     },
     "metadata": {},
     "output_type": "display_data"
    }
   ],
   "source": [
    "# Question 1.2\n",
    "# reshape for visualization\n",
    "miss.m <- melt(miss, id='K') \n",
    "names(miss.m) <- c('K', 'type', 'error')\n",
    "# plot mean asbsolute error for train and test data sets\n",
    "ggplot(data=miss.m, aes(x=log(1/K), y=error, color=type)) + geom_line() +\n",
    "       scale_color_discrete(guide = guide_legend(title = NULL)) + theme_minimal() +\n",
    "       ggtitle(\"Mean Absolute Error\")"
   ]
  },
  {
   "cell_type": "markdown",
   "metadata": {},
   "source": [
    "####  Here, I've chosen the Mean Absolute Error(MAE) as the error function. MAE measures the average magnitude of errors in prediction irrespective of their direction."
   ]
  },
  {
   "cell_type": "markdown",
   "metadata": {},
   "source": [
    "### Question 1.3\n",
    "#### The optimum value of K in terms of testing error is 11 (using K=11 gives the lowest magnitude of testing error).\n",
    "#### Increasing the model complexity i.e. decreasing K leads to overfitting as model memorizes the training data and the training error reduces to 0 whereas the testing error increases.\n",
    "#### Whereas, decreasing the model complexity i.e increasing K leads to underfitting as the model neither fits well to training data and nor to the test data (model has high test and training error).\n",
    "#### The right side of the graph log(1/K) = (-0.5, 0) shows overfitted models while the left side of the graph log(1/K) = (-3.5, -3) shows underfitted models."
   ]
  }
 ],
 "metadata": {
  "kernelspec": {
   "display_name": "R",
   "language": "R",
   "name": "ir"
  },
  "language_info": {
   "codemirror_mode": "r",
   "file_extension": ".r",
   "mimetype": "text/x-r-source",
   "name": "R",
   "pygments_lexer": "r",
   "version": "3.6.1"
  }
 },
 "nbformat": 4,
 "nbformat_minor": 4
}
