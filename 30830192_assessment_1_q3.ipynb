{
 "cells": [
  {
   "cell_type": "markdown",
   "metadata": {},
   "source": [
    "### Name - Vyom Chauhan\n",
    "### Student ID - 30830192\n",
    "### Question 3"
   ]
  },
  {
   "cell_type": "code",
   "execution_count": 24,
   "metadata": {},
   "outputs": [],
   "source": [
    "# load libraries:\n",
    "library(reshape2)\n",
    "library(ggplot2)"
   ]
  },
  {
   "cell_type": "code",
   "execution_count": 25,
   "metadata": {},
   "outputs": [],
   "source": [
    "# reading test and train data into dataframes\n",
    "test_df <- read.csv('Task1B_test.csv')\n",
    "train_df <- read.csv('Task1B_train.csv')"
   ]
  },
  {
   "cell_type": "code",
   "execution_count": 27,
   "metadata": {},
   "outputs": [],
   "source": [
    "# splitting train data into data and labels\n",
    "train.data <- train_df[,-5]\n",
    "train.label <- train_df[,5]\n",
    "# splitting test data into data and labels\n",
    "test.data <- test_df[,-5]\n",
    "test.label <- test_df[,5]"
   ]
  },
  {
   "cell_type": "code",
   "execution_count": 28,
   "metadata": {},
   "outputs": [
    {
     "data": {
      "text/html": [
       "<ol class=list-inline>\n",
       "\t<li>2694.2</li>\n",
       "\t<li>2588.7</li>\n",
       "\t<li>3069.3</li>\n",
       "\t<li>4237.4</li>\n",
       "\t<li>4693.9</li>\n",
       "\t<li>3205.2</li>\n",
       "\t<li>2820.1</li>\n",
       "\t<li>2624.2</li>\n",
       "\t<li>3062</li>\n",
       "\t<li>3311.1</li>\n",
       "\t<li>3400.4</li>\n",
       "\t<li>2600.5</li>\n",
       "\t<li>4307.1</li>\n",
       "\t<li>3744.3</li>\n",
       "\t<li>4053.1</li>\n",
       "\t<li>4307.8</li>\n",
       "\t<li>3058.1</li>\n",
       "\t<li>4991.5</li>\n",
       "\t<li>2431.9</li>\n",
       "\t<li>3524.9</li>\n",
       "\t<li>3109.9</li>\n",
       "\t<li>4831.7</li>\n",
       "\t<li>4805.7</li>\n",
       "\t<li>3758.6</li>\n",
       "\t<li>4087.5</li>\n",
       "\t<li>3632.3</li>\n",
       "\t<li>2711.9</li>\n",
       "\t<li>2836.1</li>\n",
       "\t<li>2830.9</li>\n",
       "\t<li>3001.9</li>\n",
       "\t<li>3203.9</li>\n",
       "\t<li>4106.5</li>\n",
       "\t<li>3380</li>\n",
       "\t<li>2832.5</li>\n",
       "\t<li>3468.9</li>\n",
       "\t<li>2559.7</li>\n",
       "\t<li>2513.9</li>\n",
       "\t<li>2858.1</li>\n",
       "\t<li>2543.4</li>\n",
       "\t<li>2534.3</li>\n",
       "</ol>\n"
      ],
      "text/latex": [
       "\\begin{enumerate*}\n",
       "\\item 2694.2\n",
       "\\item 2588.7\n",
       "\\item 3069.3\n",
       "\\item 4237.4\n",
       "\\item 4693.9\n",
       "\\item 3205.2\n",
       "\\item 2820.1\n",
       "\\item 2624.2\n",
       "\\item 3062\n",
       "\\item 3311.1\n",
       "\\item 3400.4\n",
       "\\item 2600.5\n",
       "\\item 4307.1\n",
       "\\item 3744.3\n",
       "\\item 4053.1\n",
       "\\item 4307.8\n",
       "\\item 3058.1\n",
       "\\item 4991.5\n",
       "\\item 2431.9\n",
       "\\item 3524.9\n",
       "\\item 3109.9\n",
       "\\item 4831.7\n",
       "\\item 4805.7\n",
       "\\item 3758.6\n",
       "\\item 4087.5\n",
       "\\item 3632.3\n",
       "\\item 2711.9\n",
       "\\item 2836.1\n",
       "\\item 2830.9\n",
       "\\item 3001.9\n",
       "\\item 3203.9\n",
       "\\item 4106.5\n",
       "\\item 3380\n",
       "\\item 2832.5\n",
       "\\item 3468.9\n",
       "\\item 2559.7\n",
       "\\item 2513.9\n",
       "\\item 2858.1\n",
       "\\item 2543.4\n",
       "\\item 2534.3\n",
       "\\end{enumerate*}\n"
      ],
      "text/markdown": [
       "1. 2694.2\n",
       "2. 2588.7\n",
       "3. 3069.3\n",
       "4. 4237.4\n",
       "5. 4693.9\n",
       "6. 3205.2\n",
       "7. 2820.1\n",
       "8. 2624.2\n",
       "9. 3062\n",
       "10. 3311.1\n",
       "11. 3400.4\n",
       "12. 2600.5\n",
       "13. 4307.1\n",
       "14. 3744.3\n",
       "15. 4053.1\n",
       "16. 4307.8\n",
       "17. 3058.1\n",
       "18. 4991.5\n",
       "19. 2431.9\n",
       "20. 3524.9\n",
       "21. 3109.9\n",
       "22. 4831.7\n",
       "23. 4805.7\n",
       "24. 3758.6\n",
       "25. 4087.5\n",
       "26. 3632.3\n",
       "27. 2711.9\n",
       "28. 2836.1\n",
       "29. 2830.9\n",
       "30. 3001.9\n",
       "31. 3203.9\n",
       "32. 4106.5\n",
       "33. 3380\n",
       "34. 2832.5\n",
       "35. 3468.9\n",
       "36. 2559.7\n",
       "37. 2513.9\n",
       "38. 2858.1\n",
       "39. 2543.4\n",
       "40. 2534.3\n",
       "\n",
       "\n"
      ],
      "text/plain": [
       " [1] 2694.2 2588.7 3069.3 4237.4 4693.9 3205.2 2820.1 2624.2 3062.0 3311.1\n",
       "[11] 3400.4 2600.5 4307.1 3744.3 4053.1 4307.8 3058.1 4991.5 2431.9 3524.9\n",
       "[21] 3109.9 4831.7 4805.7 3758.6 4087.5 3632.3 2711.9 2836.1 2830.9 3001.9\n",
       "[31] 3203.9 4106.5 3380.0 2832.5 3468.9 2559.7 2513.9 2858.1 2543.4 2534.3"
      ]
     },
     "metadata": {},
     "output_type": "display_data"
    }
   ],
   "source": [
    "# Question 3.1\n",
    "# boot function generates a dataframe of indexes based on the sample size and number of samples\n",
    "boot <- function (original.size=100, sample.size=original.size, times=100){\n",
    "    # initializing the index df\n",
    "    indx <- matrix(nrow=times, ncol=sample.size)\n",
    "    for (t in 1:times){\n",
    "        # sampling from the available indexes\n",
    "        indx[t, ] <- sample(x=original.size, size=sample.size, replace = TRUE)\n",
    "    }\n",
    "    # returning the indx dataframe\n",
    "    return(indx)\n",
    "}"
   ]
  },
  {
   "cell_type": "code",
   "execution_count": 33,
   "metadata": {},
   "outputs": [],
   "source": [
    "# defining knn regressor function \n",
    "knn <- function(train.data, train.label, test.data, K=3, distance = 'euclidean'){\n",
    "    # number of samples in train and test data\n",
    "    train.len <- nrow(train.data)\n",
    "    test.len <- nrow(test.data)\n",
    "    # distance between data points in test and train samples\n",
    "    dist <- as.matrix(dist(rbind(test.data, train.data), method= distance))[1:test.len, (test.len+1):(test.len+train.len)] \n",
    "    # for each test sample\n",
    "    for (i in 1:test.len){\n",
    "        # find its k nearrest neighbours from training sample\n",
    "        nn <- as.data.frame(sort(dist[i,], index.return = TRUE))[1:K,2]\n",
    "        # calculate predicted label based mean of the nearest k train lables\n",
    "        test.label[i] = mean(train.label[nn])\n",
    "        }\n",
    "    # returning class labels as output\n",
    "    return (test.label)\n",
    "}"
   ]
  },
  {
   "cell_type": "code",
   "execution_count": null,
   "metadata": {},
   "outputs": [],
   "source": [
    "# Question 3.2\n",
    "K <- 10           # Maximum K for KNN \n",
    "L <- 50           # number of datasets\n",
    "N <- 60          # size of datasets\n",
    "\n",
    "# generate bootstrap indices:\n",
    "boot.indx <- boot(nrow(train.data), N, L)\n",
    "\n",
    "# a dataframe to track the number of missclassified samples in each case\n",
    "miss <- data.frame('K'=1:K, 'L'=1:L, 'test'=rep(0,L*K))\n",
    "\n",
    "# for every k values:\n",
    "for (k in 1: K){\n",
    "    \n",
    "    # for every dataset sizes:\n",
    "    for (l in 1:L){\n",
    "        \n",
    "        # calculate iteration index i\n",
    "        i <- (k-1)*L+l\n",
    "        \n",
    "        # save sample indices that were selected by bootstrap\n",
    "        indx <- boot.indx[l,]\n",
    "        \n",
    "        # save the value of k and l\n",
    "        miss[i,'K'] <- k\n",
    "        miss[i,'L'] <- l\n",
    "        \n",
    "        # calculate and record the test missclassification error\n",
    "        miss[i,'test'] <-  sum(abs(knn(train.data[indx, ], train.label[indx], test.data, K=k)  - test.label))/nrow(test.data)\n",
    "    } \n",
    "}"
   ]
  },
  {
   "cell_type": "code",
   "execution_count": 35,
   "metadata": {
    "scrolled": false
   },
   "outputs": [
    {
     "data": {
      "image/png": "[encoded data removed]",
      "text/plain": [
       "plot without title"
      ]
     },
     "metadata": {},
     "output_type": "display_data"
    }
   ],
   "source": [
    "# Question 3.2\n",
    "# reshape for visualization\n",
    "miss.m <- melt(miss, id=c('K', 'L'))\n",
    "names(miss.m) <- c('K', 'L', 'type', 'miss')\n",
    "# plot boxplot of mean asbsolute error for test data vs K\n",
    "ggplot(data=miss.m[miss.m$type=='test',], aes(factor(K), miss,fill=type)) + geom_boxplot(outlier.shape = NA)  + \n",
    "    scale_color_discrete(guide = guide_legend(title = NULL)) + \n",
    "    ggtitle('Missclassifcation vs. K (Box Plot)') + theme_minimal()\n",
    "# ignore the warnings (because of ignoring outliers)\n",
    "options(warn=-1)"
   ]
  },
  {
   "cell_type": "markdown",
   "metadata": {},
   "source": [
    "### Question 3.3\n",
    "#### Here, we observe that the mean absolute error increases as K increases.\n",
    "#### Moreover, for large K we can see that the size of the boxplot increases as K increases. This means that the uncertainty around the error increases as K increases i.e a higher K causes an increased variation in test errors."
   ]
  },
  {
   "cell_type": "code",
   "execution_count": 37,
   "metadata": {},
   "outputs": [],
   "source": [
    "# Question 3.4\n",
    "# knn for k=10 and different values of L i.e the number of datasets\n",
    "K <- 10           # Maximum K for KNN \n",
    "L <- seq(10, 200, 10)          # number of datasets\n",
    "N <- 40          # size of datasets\n",
    "\n",
    "# a dataframe to track the number of missclassified samples in each case\n",
    "miss <- data.frame('K'=1:2100, 'L'=1:2100, 'test'=rep(0,2100))\n",
    "# iteration counter\n",
    "i = 1\n",
    "## for every k values:\n",
    "for (k in L){\n",
    "    # generate bootstrap indices:\n",
    "    boot.indx <- boot(nrow(train.data), N, k)\n",
    "    ### for every dataset sizes:\n",
    "    for (l in 1:k){\n",
    "        \n",
    "        # save sample indices that were selected by bootstrap\n",
    "        indx <- boot.indx[l,]\n",
    "        # save the value of k and l\n",
    "        miss[i,'K'] <- k\n",
    "        miss[i,'L'] <- l\n",
    "        \n",
    "        # calculate and record the train and test missclassification rates\n",
    "        miss[i,'test'] <-  sum(abs(knn(train.data[indx, ], train.label[indx], test.data, K=K)  - test.label))/nrow(test.data)\n",
    "        i <- i + 1\n",
    "    } \n",
    "}"
   ]
  },
  {
   "cell_type": "code",
   "execution_count": 43,
   "metadata": {},
   "outputs": [
    {
     "data": {
      "image/png": "[encoded data removed]",
      "text/plain": [
       "plot without title"
      ]
     },
     "metadata": {},
     "output_type": "display_data"
    }
   ],
   "source": [
    "# Question 3.4\n",
    "# reshape for visualization\n",
    "miss.m <- melt(miss, id=c('K', 'L'))\n",
    "names(miss.m) <- c('K', 'L', 'type', 'miss')\n",
    "# plot boxplot of mean asbsolute error for test data vs L i.e number of datasets\n",
    "ggplot(data=miss.m[miss.m$type=='test',], aes(factor(K), miss,fill=type)) + geom_boxplot(outlier.shape = NA)  + \n",
    "    scale_color_discrete(guide = guide_legend(title = NULL)) + \n",
    "    ggtitle('Missclassifcation vs. L (Box Plot)') + theme_minimal() + labs(x = 'Times', y = 'Avg Miss Error' )\n",
    "# ignore the warnings (because of ignoring outliers)\n",
    "options(warn=-1)"
   ]
  },
  {
   "cell_type": "markdown",
   "metadata": {},
   "source": [
    "### Question 3.5\n",
    "#### When plotting the average misclassification against the number of subsets in bootstrapping we observe that there isn't much variation in errors across the number of datasets drawn.\n",
    "#### The range of avg. errors for the boxplots seem to be approximately equal while for L=20 and 40, the range of errors seem to be a bit low."
   ]
  }
 ],
 "metadata": {
  "kernelspec": {
   "display_name": "R",
   "language": "R",
   "name": "ir"
  },
  "language_info": {
   "codemirror_mode": "r",
   "file_extension": ".r",
   "mimetype": "text/x-r-source",
   "name": "R",
   "pygments_lexer": "r",
   "version": "3.6.1"
  }
 },
 "nbformat": 4,
 "nbformat_minor": 4
}
